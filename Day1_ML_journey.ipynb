{
  "nbformat": 4,
  "nbformat_minor": 0,
  "metadata": {
    "colab": {
      "provenance": []
    },
    "kernelspec": {
      "name": "python3",
      "display_name": "Python 3"
    },
    "language_info": {
      "name": "python"
    }
  },
  "cells": [
    {
      "cell_type": "code",
      "execution_count": null,
      "metadata": {
        "colab": {
          "base_uri": "https://localhost:8080/"
        },
        "id": "HpmbKqI7jltH",
        "outputId": "0ec1bf68-5f68-4ec7-f746-ea081ec8cab5"
      },
      "outputs": [
        {
          "output_type": "stream",
          "name": "stdout",
          "text": [
            "hello world\n"
          ]
        }
      ],
      "source": [
        "print(\"hello world\")"
      ]
    },
    {
      "cell_type": "code",
      "source": [
        "ashdkjas"
      ],
      "metadata": {
        "id": "34ZbDQBAxLWX"
      },
      "execution_count": null,
      "outputs": []
    },
    {
      "cell_type": "code",
      "source": [
        "42 * 5"
      ],
      "metadata": {
        "colab": {
          "base_uri": "https://localhost:8080/"
        },
        "id": "RpVSyk542kX3",
        "outputId": "68e567fb-3a28-4e7c-9407-04a81e35e6a4"
      },
      "execution_count": null,
      "outputs": [
        {
          "output_type": "execute_result",
          "data": {
            "text/plain": [
              "210"
            ]
          },
          "metadata": {},
          "execution_count": 1
        }
      ]
    },
    {
      "cell_type": "code",
      "source": [
        "#BreakstatementinforLoop"
      ],
      "metadata": {
        "id": "f691JRKL2nx0"
      },
      "execution_count": 2,
      "outputs": []
    },
    {
      "cell_type": "code",
      "source": [
        "for letter in \"python\":\n",
        "  if letter == \"h\":\n",
        "    break\n",
        "  print(\"current letter:\",letter)"
      ],
      "metadata": {
        "colab": {
          "base_uri": "https://localhost:8080/"
        },
        "id": "N30B28ZoQqMQ",
        "outputId": "c344ecd8-1db7-4be3-a9cf-d29bf4399ba6"
      },
      "execution_count": 3,
      "outputs": [
        {
          "output_type": "stream",
          "name": "stdout",
          "text": [
            "current letter: p\n",
            "current letter: y\n",
            "current letter: t\n"
          ]
        }
      ]
    },
    {
      "cell_type": "code",
      "source": [
        "for letter in \"Noormaan\":\n",
        "  if letter == \"m\":\n",
        "    break\n",
        "  print(\"current letter:\",letter)"
      ],
      "metadata": {
        "colab": {
          "base_uri": "https://localhost:8080/"
        },
        "id": "70Dv8zS9SVkf",
        "outputId": "795c95b2-a730-4ef4-d881-13c7fa528b98"
      },
      "execution_count": 4,
      "outputs": [
        {
          "output_type": "stream",
          "name": "stdout",
          "text": [
            "current letter: N\n",
            "current letter: o\n",
            "current letter: o\n",
            "current letter: r\n"
          ]
        }
      ]
    },
    {
      "cell_type": "code",
      "source": [
        "for letter in \"python\":\n",
        "  print(\"current letter:\",letter)\n",
        "  if letter == \"h\":\n",
        "    break"
      ],
      "metadata": {
        "colab": {
          "base_uri": "https://localhost:8080/"
        },
        "id": "bmYLXCSlScso",
        "outputId": "e08493d3-2480-4c79-de97-1fc8e6987771"
      },
      "execution_count": 5,
      "outputs": [
        {
          "output_type": "stream",
          "name": "stdout",
          "text": [
            "current letter: p\n",
            "current letter: y\n",
            "current letter: t\n",
            "current letter: h\n"
          ]
        }
      ]
    },
    {
      "cell_type": "code",
      "source": [
        "for char in \"icecream\":\n",
        "  if char == \"c\":\n",
        "    print(\"The character %s was found in the string\" % char)\n",
        "    break\n",
        "else:\n",
        "    print(\"The character %s was not found in the string\" % char)"
      ],
      "metadata": {
        "colab": {
          "base_uri": "https://localhost:8080/"
        },
        "id": "2UI2lNbyTzxT",
        "outputId": "98bee682-aa62-465c-b047-572b637befa7"
      },
      "execution_count": 7,
      "outputs": [
        {
          "output_type": "stream",
          "name": "stdout",
          "text": [
            "The character c was found in the string\n"
          ]
        }
      ]
    },
    {
      "cell_type": "code",
      "source": [
        "for num in [3, 11, 22, 35, 90]:\n",
        "  print(num)\n",
        "\n",
        "  if (num == 22):\n",
        "    print(\"The number %d has been found\" % num)\n",
        "    print(\"Terminating the loop...\")\n",
        "\n",
        "    break\n"
      ],
      "metadata": {
        "colab": {
          "base_uri": "https://localhost:8080/"
        },
        "id": "jmQqpgzdUgHy",
        "outputId": "dc51788d-0575-4a7d-c868-04d152a5bcf8"
      },
      "execution_count": 8,
      "outputs": [
        {
          "output_type": "stream",
          "name": "stdout",
          "text": [
            "3\n",
            "11\n",
            "22\n",
            "The number 22 has been found\n",
            "Terminating the loop...\n"
          ]
        }
      ]
    },
    {
      "cell_type": "code",
      "source": [
        "for i in range(5):\n",
        "  if i == 4:\n",
        "    print(i)\n",
        "    break"
      ],
      "metadata": {
        "colab": {
          "base_uri": "https://localhost:8080/"
        },
        "id": "5CYb67ArVgi3",
        "outputId": "c9f75bc5-da7d-4bdb-89b1-126195e74853"
      },
      "execution_count": 1,
      "outputs": [
        {
          "output_type": "stream",
          "name": "stdout",
          "text": [
            "4\n"
          ]
        }
      ]
    },
    {
      "cell_type": "code",
      "source": [
        "for i in range(5):\n",
        "  if i == 4:\n",
        "    break\n",
        "  print(i)\n",
        ""
      ],
      "metadata": {
        "id": "dSr8HzAWqf38",
        "outputId": "de594971-01f2-4b72-85d8-9cfe05bdcc79",
        "colab": {
          "base_uri": "https://localhost:8080/"
        }
      },
      "execution_count": 3,
      "outputs": [
        {
          "output_type": "stream",
          "name": "stdout",
          "text": [
            "0\n",
            "1\n",
            "2\n",
            "3\n"
          ]
        }
      ]
    },
    {
      "cell_type": "code",
      "source": [
        "for i in range(1, 10):\n",
        "  if i >= 5:\n",
        "    break\n",
        "  print(i, \"is less than 5\")"
      ],
      "metadata": {
        "id": "2N7B0g2qs0L_",
        "outputId": "57154f16-ac31-4d64-99b0-8554e3dd754b",
        "colab": {
          "base_uri": "https://localhost:8080/"
        }
      },
      "execution_count": 5,
      "outputs": [
        {
          "output_type": "stream",
          "name": "stdout",
          "text": [
            "1 is less than 5\n",
            "2 is less than 5\n",
            "3 is less than 5\n",
            "4 is less than 5\n"
          ]
        }
      ]
    },
    {
      "cell_type": "code",
      "source": [
        "for i in range(1, 10):\n",
        "  if i <= 5:\n",
        "    print(i, \"is less than 5\")\n",
        "    break"
      ],
      "metadata": {
        "id": "qnhZR7ditRgh",
        "outputId": "d8be1e2e-08e2-4e90-dec5-d28d1ed45919",
        "colab": {
          "base_uri": "https://localhost:8080/"
        }
      },
      "execution_count": 7,
      "outputs": [
        {
          "output_type": "stream",
          "name": "stdout",
          "text": [
            "1 is less than 5\n"
          ]
        }
      ]
    },
    {
      "cell_type": "code",
      "source": [
        "for i in range(1, 10):\n",
        "  if i >= 5:\n",
        "    print(i, \"is less than 5\")\n",
        "    break"
      ],
      "metadata": {
        "id": "h28U0Q5Ftekw",
        "outputId": "05d49c13-ad7c-4a32-8856-7843323f2285",
        "colab": {
          "base_uri": "https://localhost:8080/"
        }
      },
      "execution_count": 8,
      "outputs": [
        {
          "output_type": "stream",
          "name": "stdout",
          "text": [
            "5 is less than 5\n"
          ]
        }
      ]
    },
    {
      "cell_type": "code",
      "source": [
        "my_list = range(10)\n",
        "\n",
        "for num in my_list:\n",
        "  if num ** 2 > 20:\n",
        "    break\n",
        "  print(num, \"square\", num ** 2)"
      ],
      "metadata": {
        "id": "cZI8o40ZtnVS",
        "outputId": "d134dc57-0deb-48e5-abed-e26f9abe8935",
        "colab": {
          "base_uri": "https://localhost:8080/"
        }
      },
      "execution_count": 10,
      "outputs": [
        {
          "output_type": "stream",
          "name": "stdout",
          "text": [
            "0 square 0\n",
            "1 square 1\n",
            "2 square 4\n",
            "3 square 9\n",
            "4 square 16\n"
          ]
        }
      ]
    },
    {
      "cell_type": "code",
      "source": [
        "string = \"Hello 12345 World\"\n",
        "numbers = [int(x) for x in string if x.isdigit()]\n",
        "print(numbers)"
      ],
      "metadata": {
        "id": "NilUyl9quOst",
        "outputId": "5f83d2e5-f5d6-4181-cb31-6da4e2ca97de",
        "colab": {
          "base_uri": "https://localhost:8080/"
        }
      },
      "execution_count": 1,
      "outputs": [
        {
          "output_type": "stream",
          "name": "stdout",
          "text": [
            "[1, 2, 3, 4, 5]\n"
          ]
        }
      ]
    },
    {
      "cell_type": "code",
      "source": [
        "string = \"Hello 12345 World\"\n",
        "alpha = [x for x in string if x.isalpha()]\n",
        "print(alpha)"
      ],
      "metadata": {
        "id": "c9b5wry3Qe3d",
        "outputId": "c3975f4c-3d35-483b-92ab-97265c9845a7",
        "colab": {
          "base_uri": "https://localhost:8080/"
        }
      },
      "execution_count": 2,
      "outputs": [
        {
          "output_type": "stream",
          "name": "stdout",
          "text": [
            "['H', 'e', 'l', 'l', 'o', 'W', 'o', 'r', 'l', 'd']\n"
          ]
        }
      ]
    },
    {
      "cell_type": "code",
      "source": [
        "stationary = [\"Pen\",\"Marker\",\"Pencil\"]\n",
        "Colors = [\"Red\",\"Green\",\"Blue\"]\n",
        "for i in stationary:\n",
        "  for j in Colors:\n",
        "    print(i,j)"
      ],
      "metadata": {
        "id": "MacUMZ9eQvls",
        "outputId": "b2cbd14d-fe44-4de8-c154-461421690990",
        "colab": {
          "base_uri": "https://localhost:8080/"
        }
      },
      "execution_count": 3,
      "outputs": [
        {
          "output_type": "stream",
          "name": "stdout",
          "text": [
            "Pen Red\n",
            "Pen Green\n",
            "Pen Blue\n",
            "Marker Red\n",
            "Marker Green\n",
            "Marker Blue\n",
            "Pencil Red\n",
            "Pencil Green\n",
            "Pencil Blue\n"
          ]
        }
      ]
    },
    {
      "cell_type": "code",
      "source": [
        "stationary = [\"Pen\",\"Marker\",\"Pencil\"]\n",
        "Colors = [\"Red\",\"Green\",\"Blue\"]\n",
        "combined =[(i,j) for j in stationary for i in Colors]\n",
        "print(combined)"
      ],
      "metadata": {
        "id": "IesjJpsFRLD_",
        "outputId": "9a5741de-e933-446c-88ba-5937a408c3ce",
        "colab": {
          "base_uri": "https://localhost:8080/"
        }
      },
      "execution_count": 4,
      "outputs": [
        {
          "output_type": "stream",
          "name": "stdout",
          "text": [
            "[('Red', 'Pen'), ('Green', 'Pen'), ('Blue', 'Pen'), ('Red', 'Marker'), ('Green', 'Marker'), ('Blue', 'Marker'), ('Red', 'Pencil'), ('Green', 'Pencil'), ('Blue', 'Pencil')]\n"
          ]
        }
      ]
    },
    {
      "cell_type": "code",
      "source": [],
      "metadata": {
        "id": "cNsyblc9Rcml"
      },
      "execution_count": null,
      "outputs": []
    }
  ]
}