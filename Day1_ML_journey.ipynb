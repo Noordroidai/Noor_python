{
  "nbformat": 4,
  "nbformat_minor": 0,
  "metadata": {
    "colab": {
      "provenance": []
    },
    "kernelspec": {
      "name": "python3",
      "display_name": "Python 3"
    },
    "language_info": {
      "name": "python"
    }
  },
  "cells": [
    {
      "cell_type": "code",
      "execution_count": null,
      "metadata": {
        "colab": {
          "base_uri": "https://localhost:8080/"
        },
        "id": "HpmbKqI7jltH",
        "outputId": "0ec1bf68-5f68-4ec7-f746-ea081ec8cab5"
      },
      "outputs": [
        {
          "output_type": "stream",
          "name": "stdout",
          "text": [
            "hello world\n"
          ]
        }
      ],
      "source": [
        "print(\"hello world\")"
      ]
    },
    {
      "cell_type": "code",
      "source": [
        "ashdkjas"
      ],
      "metadata": {
        "id": "34ZbDQBAxLWX"
      },
      "execution_count": null,
      "outputs": []
    },
    {
      "cell_type": "code",
      "source": [
        "42 * 5"
      ],
      "metadata": {
        "colab": {
          "base_uri": "https://localhost:8080/"
        },
        "id": "RpVSyk542kX3",
        "outputId": "68e567fb-3a28-4e7c-9407-04a81e35e6a4"
      },
      "execution_count": null,
      "outputs": [
        {
          "output_type": "execute_result",
          "data": {
            "text/plain": [
              "210"
            ]
          },
          "metadata": {},
          "execution_count": 1
        }
      ]
    },
    {
      "cell_type": "code",
      "source": [
        "#BreakstatementinforLoop"
      ],
      "metadata": {
        "id": "f691JRKL2nx0"
      },
      "execution_count": 2,
      "outputs": []
    },
    {
      "cell_type": "code",
      "source": [
        "for letter in \"python\":\n",
        "  if letter == \"h\":\n",
        "    break\n",
        "  print(\"current letter:\",letter)"
      ],
      "metadata": {
        "colab": {
          "base_uri": "https://localhost:8080/"
        },
        "id": "N30B28ZoQqMQ",
        "outputId": "c344ecd8-1db7-4be3-a9cf-d29bf4399ba6"
      },
      "execution_count": 3,
      "outputs": [
        {
          "output_type": "stream",
          "name": "stdout",
          "text": [
            "current letter: p\n",
            "current letter: y\n",
            "current letter: t\n"
          ]
        }
      ]
    },
    {
      "cell_type": "code",
      "source": [
        "for letter in \"Noormaan\":\n",
        "  if letter == \"m\":\n",
        "    break\n",
        "  print(\"current letter:\",letter)"
      ],
      "metadata": {
        "colab": {
          "base_uri": "https://localhost:8080/"
        },
        "id": "70Dv8zS9SVkf",
        "outputId": "795c95b2-a730-4ef4-d881-13c7fa528b98"
      },
      "execution_count": 4,
      "outputs": [
        {
          "output_type": "stream",
          "name": "stdout",
          "text": [
            "current letter: N\n",
            "current letter: o\n",
            "current letter: o\n",
            "current letter: r\n"
          ]
        }
      ]
    },
    {
      "cell_type": "code",
      "source": [
        "for letter in \"python\":\n",
        "  print(\"current letter:\",letter)\n",
        "  if letter == \"h\":\n",
        "    break"
      ],
      "metadata": {
        "colab": {
          "base_uri": "https://localhost:8080/"
        },
        "id": "bmYLXCSlScso",
        "outputId": "e08493d3-2480-4c79-de97-1fc8e6987771"
      },
      "execution_count": 5,
      "outputs": [
        {
          "output_type": "stream",
          "name": "stdout",
          "text": [
            "current letter: p\n",
            "current letter: y\n",
            "current letter: t\n",
            "current letter: h\n"
          ]
        }
      ]
    },
    {
      "cell_type": "code",
      "source": [
        "for char in \"icecream\":\n",
        "  if char == \"c\":\n",
        "    print(\"The character %s was found in the string\" % char)\n",
        "    break\n",
        "else:\n",
        "    print(\"The character %s was not found in the string\" % char)"
      ],
      "metadata": {
        "id": "2UI2lNbyTzxT",
        "outputId": "98bee682-aa62-465c-b047-572b637befa7",
        "colab": {
          "base_uri": "https://localhost:8080/"
        }
      },
      "execution_count": 7,
      "outputs": [
        {
          "output_type": "stream",
          "name": "stdout",
          "text": [
            "The character c was found in the string\n"
          ]
        }
      ]
    },
    {
      "cell_type": "code",
      "source": [
        "for num in [3, 11, 22, 35, 90]:\n",
        "  print(num)\n",
        "\n",
        "  if (num == 22):\n",
        "    print(\"The number %d has been found\" % num)\n",
        "    print(\"Terminating the loop...\")\n",
        "\n",
        "    break\n"
      ],
      "metadata": {
        "id": "jmQqpgzdUgHy",
        "outputId": "dc51788d-0575-4a7d-c868-04d152a5bcf8",
        "colab": {
          "base_uri": "https://localhost:8080/"
        }
      },
      "execution_count": 8,
      "outputs": [
        {
          "output_type": "stream",
          "name": "stdout",
          "text": [
            "3\n",
            "11\n",
            "22\n",
            "The number 22 has been found\n",
            "Terminating the loop...\n"
          ]
        }
      ]
    },
    {
      "cell_type": "code",
      "source": [],
      "metadata": {
        "id": "5CYb67ArVgi3"
      },
      "execution_count": null,
      "outputs": []
    }
  ]
}